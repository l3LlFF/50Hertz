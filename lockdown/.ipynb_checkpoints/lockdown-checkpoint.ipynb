{
 "cells": [
  {
   "cell_type": "code",
   "execution_count": 1,
   "metadata": {},
   "outputs": [],
   "source": [
    "import requests\n",
    "import pandas as pd"
   ]
  },
  {
   "cell_type": "code",
   "execution_count": 2,
   "metadata": {},
   "outputs": [],
   "source": [
    "schools_dict = {\n",
    "    0: \"No lockdown measures\",\n",
    "    1: \"Recommend closing\",\n",
    "    2: \"Require closing some levels\",\n",
    "    3: \"Require closing all levels\"\n",
    "}\n",
    "\n",
    "workplace_dict = {\n",
    "    0: \"No lockdown measures\",\n",
    "    1: \"Recommend closing\",\n",
    "    2: \"Require closing some sectors\",\n",
    "    3: \"Require closing all but essential workers\"\n",
    "}\n",
    "\n",
    "stay_home_dict = {\n",
    "    -1: \"None\",\n",
    "    0: \"No lockdown measures\",\n",
    "    1: \"Recommend not leaving house\",\n",
    "    2: \"Require not leaving home with some exceptions\",\n",
    "    3: \"Require not leaving home with few exceptions\"\n",
    "}\n",
    "\n",
    "borders_dict = {\n",
    "    -1: \"None\",\n",
    "    0: \"No lockdown measures\",\n",
    "    1: \"Screen arrivals\",\n",
    "    2: \"Quarantine arrivals from some or all regions\",\n",
    "    3: \"Ban arrivals from some regions\",\n",
    "    4: \"Ban arrivals from all regions\"\n",
    "}\n",
    "\n",
    "lockdown_policy_dict = {\n",
    "        0: 'Locally',\n",
    "        1: 'Nationwide'\n",
    "}"
   ]
  },
  {
   "cell_type": "code",
   "execution_count": 3,
   "metadata": {},
   "outputs": [],
   "source": [
    "resp = requests.get('https://graphics.thomsonreuters.com/data/2020/coronavirus/oxford-covid-stringency-tracker/countries/germany/data.json')"
   ]
  },
  {
   "cell_type": "code",
   "execution_count": 4,
   "metadata": {},
   "outputs": [],
   "source": [
    "resp_json = resp.json()"
   ]
  },
  {
   "cell_type": "markdown",
   "metadata": {},
   "source": [
    "### Schools"
   ]
  },
  {
   "cell_type": "code",
   "execution_count": 5,
   "metadata": {},
   "outputs": [],
   "source": [
    "dates = resp_json['series']\n",
    "school_values = resp_json['countries']['Germany']['cIndex']['c1']['values']\n",
    "school_flags = resp_json['countries']['Germany']['cIndex']['c1']['flag']\n",
    "\n",
    "work_values = resp_json['countries']['Germany']['cIndex']['c2']['values']\n",
    "work_flags = resp_json['countries']['Germany']['cIndex']['c2']['flag']\n",
    "\n",
    "stay_home_values = resp_json['countries']['Germany']['cIndex']['c6']['values']\n",
    "stay_home_flags = resp_json['countries']['Germany']['cIndex']['c6']['flag']\n",
    "\n",
    "borders_values = resp_json['countries']['Germany']['cIndex']['c8']['values']"
   ]
  },
  {
   "cell_type": "code",
   "execution_count": 6,
   "metadata": {},
   "outputs": [],
   "source": [
    "df = pd.DataFrame({'date': dates, \n",
    "                   'school': school_values, 'school_flag': school_flags,\n",
    "                   'workplace': work_values, 'workplace_flag': work_flags,\n",
    "                   'stay_home': stay_home_values, 'stay_home_flag': stay_home_flags,\n",
    "                   'borders': borders_values\n",
    "                  })"
   ]
  },
  {
   "cell_type": "code",
   "execution_count": 8,
   "metadata": {},
   "outputs": [],
   "source": [
    "df = df.fillna(0)"
   ]
  },
  {
   "cell_type": "code",
   "execution_count": 10,
   "metadata": {},
   "outputs": [],
   "source": [
    "df['school'] = df['school'].astype('int')\n",
    "df['school_flag'] = df['school_flag'].astype('int')\n",
    "df['workplace'] = df['workplace'].astype('int')\n",
    "df['workplace_flag'] = df['workplace_flag'].astype('int')\n",
    "df['stay_home'] = df['stay_home'].astype('int')\n",
    "df['stay_home_flag'] = df['stay_home_flag'].astype('int')\n",
    "df['borders'] = df['borders'].astype('int')"
   ]
  },
  {
   "cell_type": "code",
   "execution_count": 11,
   "metadata": {},
   "outputs": [],
   "source": [
    "df['school'] = df['school'].map(schools_dict)\n",
    "\n",
    "df['school_flag'] = df['school_flag'].map(lockdown_policy_dict)\n",
    "\n",
    "df['workplace'] = df['workplace'].map(workplace_dict)\n",
    "\n",
    "df['workplace_flag'] = df['workplace_flag'].map(lockdown_policy_dict)\n",
    "\n",
    "df['stay_home'] = df['stay_home'].map(stay_home_dict)\n",
    "\n",
    "df['stay_home_flag'] = df['stay_home_flag'].map(lockdown_policy_dict)\n",
    "\n",
    "df['borders'] = df['borders'].map(borders_dict)"
   ]
  },
  {
   "cell_type": "code",
   "execution_count": 12,
   "metadata": {},
   "outputs": [
    {
     "data": {
      "text/html": [
       "<div>\n",
       "<style scoped>\n",
       "    .dataframe tbody tr th:only-of-type {\n",
       "        vertical-align: middle;\n",
       "    }\n",
       "\n",
       "    .dataframe tbody tr th {\n",
       "        vertical-align: top;\n",
       "    }\n",
       "\n",
       "    .dataframe thead th {\n",
       "        text-align: right;\n",
       "    }\n",
       "</style>\n",
       "<table border=\"1\" class=\"dataframe\">\n",
       "  <thead>\n",
       "    <tr style=\"text-align: right;\">\n",
       "      <th></th>\n",
       "      <th>date</th>\n",
       "      <th>school</th>\n",
       "      <th>school_flag</th>\n",
       "      <th>workplace</th>\n",
       "      <th>workplace_flag</th>\n",
       "      <th>stay_home</th>\n",
       "      <th>stay_home_flag</th>\n",
       "      <th>borders</th>\n",
       "    </tr>\n",
       "  </thead>\n",
       "  <tbody>\n",
       "    <tr>\n",
       "      <th>0</th>\n",
       "      <td>2020-01-01T00:00:00Z</td>\n",
       "      <td>No lockdown measures</td>\n",
       "      <td>Locally</td>\n",
       "      <td>No lockdown measures</td>\n",
       "      <td>Locally</td>\n",
       "      <td>No lockdown measures</td>\n",
       "      <td>Locally</td>\n",
       "      <td>No lockdown measures</td>\n",
       "    </tr>\n",
       "    <tr>\n",
       "      <th>1</th>\n",
       "      <td>2020-01-02T00:00:00Z</td>\n",
       "      <td>No lockdown measures</td>\n",
       "      <td>Locally</td>\n",
       "      <td>No lockdown measures</td>\n",
       "      <td>Locally</td>\n",
       "      <td>No lockdown measures</td>\n",
       "      <td>Locally</td>\n",
       "      <td>No lockdown measures</td>\n",
       "    </tr>\n",
       "    <tr>\n",
       "      <th>2</th>\n",
       "      <td>2020-01-03T00:00:00Z</td>\n",
       "      <td>No lockdown measures</td>\n",
       "      <td>Locally</td>\n",
       "      <td>No lockdown measures</td>\n",
       "      <td>Locally</td>\n",
       "      <td>No lockdown measures</td>\n",
       "      <td>Locally</td>\n",
       "      <td>No lockdown measures</td>\n",
       "    </tr>\n",
       "    <tr>\n",
       "      <th>3</th>\n",
       "      <td>2020-01-04T00:00:00Z</td>\n",
       "      <td>No lockdown measures</td>\n",
       "      <td>Locally</td>\n",
       "      <td>No lockdown measures</td>\n",
       "      <td>Locally</td>\n",
       "      <td>No lockdown measures</td>\n",
       "      <td>Locally</td>\n",
       "      <td>No lockdown measures</td>\n",
       "    </tr>\n",
       "    <tr>\n",
       "      <th>4</th>\n",
       "      <td>2020-01-05T00:00:00Z</td>\n",
       "      <td>No lockdown measures</td>\n",
       "      <td>Locally</td>\n",
       "      <td>No lockdown measures</td>\n",
       "      <td>Locally</td>\n",
       "      <td>No lockdown measures</td>\n",
       "      <td>Locally</td>\n",
       "      <td>No lockdown measures</td>\n",
       "    </tr>\n",
       "  </tbody>\n",
       "</table>\n",
       "</div>"
      ],
      "text/plain": [
       "                   date                school school_flag  \\\n",
       "0  2020-01-01T00:00:00Z  No lockdown measures     Locally   \n",
       "1  2020-01-02T00:00:00Z  No lockdown measures     Locally   \n",
       "2  2020-01-03T00:00:00Z  No lockdown measures     Locally   \n",
       "3  2020-01-04T00:00:00Z  No lockdown measures     Locally   \n",
       "4  2020-01-05T00:00:00Z  No lockdown measures     Locally   \n",
       "\n",
       "              workplace workplace_flag             stay_home stay_home_flag  \\\n",
       "0  No lockdown measures        Locally  No lockdown measures        Locally   \n",
       "1  No lockdown measures        Locally  No lockdown measures        Locally   \n",
       "2  No lockdown measures        Locally  No lockdown measures        Locally   \n",
       "3  No lockdown measures        Locally  No lockdown measures        Locally   \n",
       "4  No lockdown measures        Locally  No lockdown measures        Locally   \n",
       "\n",
       "                borders  \n",
       "0  No lockdown measures  \n",
       "1  No lockdown measures  \n",
       "2  No lockdown measures  \n",
       "3  No lockdown measures  \n",
       "4  No lockdown measures  "
      ]
     },
     "execution_count": 12,
     "metadata": {},
     "output_type": "execute_result"
    }
   ],
   "source": [
    "df.head()"
   ]
  },
  {
   "cell_type": "code",
   "execution_count": 174,
   "metadata": {},
   "outputs": [],
   "source": [
    "df.to_excel('lockdown.xlsx', index=False)"
   ]
  }
 ],
 "metadata": {
  "kernelspec": {
   "display_name": "Python 3",
   "language": "python",
   "name": "python3"
  },
  "language_info": {
   "codemirror_mode": {
    "name": "ipython",
    "version": 3
   },
   "file_extension": ".py",
   "mimetype": "text/x-python",
   "name": "python",
   "nbconvert_exporter": "python",
   "pygments_lexer": "ipython3",
   "version": "3.8.2"
  }
 },
 "nbformat": 4,
 "nbformat_minor": 4
}
